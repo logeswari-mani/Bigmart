{
 "cells": [
  {
   "cell_type": "markdown",
   "id": "614bf627",
   "metadata": {},
   "source": [
    "# Bigmart Sales "
   ]
  },
  {
   "cell_type": "code",
   "execution_count": 1,
   "id": "6fa3a93d",
   "metadata": {},
   "outputs": [],
   "source": [
    "import pandas as pd\n",
    "import numpy as np\n",
    "import seaborn as sns\n",
    "import matplotlib.pyplot as plt\n",
    "from scipy import stats\n",
    "import statsmodels.api as  sm\n",
    "from sklearn.preprocessing import MinMaxScaler as mms"
   ]
  },
  {
   "cell_type": "code",
   "execution_count": 2,
   "id": "6fcdcb1b",
   "metadata": {},
   "outputs": [],
   "source": [
    "data=pd.read_csv(\"https://raw.githubusercontent.com/akki8087/Big-Mart-Sales/master/Train.csv\")\n",
    "data.drop(['Item_Identifier','Outlet_Identifier'],axis=1,inplace=True)"
   ]
  },
  {
   "cell_type": "code",
   "execution_count": 3,
   "id": "a4fa1009",
   "metadata": {},
   "outputs": [
    {
     "name": "stdout",
     "output_type": "stream",
     "text": [
      "      Item_Weight  Item_Visibility  Item_MRP  Outlet_Establishment_Year  \\\n",
      "0           9.300         0.016047  249.8092                       1999   \n",
      "1           5.920         0.019278   48.2692                       2009   \n",
      "2          17.500         0.016760  141.6180                       1999   \n",
      "3          19.200         0.000000  182.0950                       1998   \n",
      "4           8.930         0.000000   53.8614                       1987   \n",
      "...           ...              ...       ...                        ...   \n",
      "8518        6.865         0.056783  214.5218                       1987   \n",
      "8519        8.380         0.046982  108.1570                       2002   \n",
      "8520       10.600         0.035186   85.1224                       2004   \n",
      "8521        7.210         0.145221  103.1332                       2009   \n",
      "8522       14.800         0.044878   75.4670                       1997   \n",
      "\n",
      "      Item_Outlet_Sales  Item_Fat_Content_LF  Item_Fat_Content_Low Fat  \\\n",
      "0             3735.1380                    0                         1   \n",
      "1              443.4228                    0                         0   \n",
      "2             2097.2700                    0                         1   \n",
      "3              732.3800                    0                         0   \n",
      "4              994.7052                    0                         1   \n",
      "...                 ...                  ...                       ...   \n",
      "8518          2778.3834                    0                         1   \n",
      "8519           549.2850                    0                         0   \n",
      "8520          1193.1136                    0                         1   \n",
      "8521          1845.5976                    0                         0   \n",
      "8522           765.6700                    0                         1   \n",
      "\n",
      "      Item_Fat_Content_Regular  Item_Fat_Content_low fat  \\\n",
      "0                            0                         0   \n",
      "1                            1                         0   \n",
      "2                            0                         0   \n",
      "3                            1                         0   \n",
      "4                            0                         0   \n",
      "...                        ...                       ...   \n",
      "8518                         0                         0   \n",
      "8519                         1                         0   \n",
      "8520                         0                         0   \n",
      "8521                         1                         0   \n",
      "8522                         0                         0   \n",
      "\n",
      "      Item_Fat_Content_reg  ...  Outlet_Size_High  Outlet_Size_Medium  \\\n",
      "0                        0  ...                 0                   1   \n",
      "1                        0  ...                 0                   1   \n",
      "2                        0  ...                 0                   1   \n",
      "3                        0  ...                 0                   0   \n",
      "4                        0  ...                 1                   0   \n",
      "...                    ...  ...               ...                 ...   \n",
      "8518                     0  ...                 1                   0   \n",
      "8519                     0  ...                 0                   0   \n",
      "8520                     0  ...                 0                   0   \n",
      "8521                     0  ...                 0                   1   \n",
      "8522                     0  ...                 0                   0   \n",
      "\n",
      "      Outlet_Size_Small  Outlet_Location_Type_Tier 1  \\\n",
      "0                     0                            1   \n",
      "1                     0                            0   \n",
      "2                     0                            1   \n",
      "3                     0                            0   \n",
      "4                     0                            0   \n",
      "...                 ...                          ...   \n",
      "8518                  0                            0   \n",
      "8519                  0                            0   \n",
      "8520                  1                            0   \n",
      "8521                  0                            0   \n",
      "8522                  1                            1   \n",
      "\n",
      "      Outlet_Location_Type_Tier 2  Outlet_Location_Type_Tier 3  \\\n",
      "0                               0                            0   \n",
      "1                               0                            1   \n",
      "2                               0                            0   \n",
      "3                               0                            1   \n",
      "4                               0                            1   \n",
      "...                           ...                          ...   \n",
      "8518                            0                            1   \n",
      "8519                            1                            0   \n",
      "8520                            1                            0   \n",
      "8521                            0                            1   \n",
      "8522                            0                            0   \n",
      "\n",
      "      Outlet_Type_Grocery Store  Outlet_Type_Supermarket Type1  \\\n",
      "0                             0                              1   \n",
      "1                             0                              0   \n",
      "2                             0                              1   \n",
      "3                             1                              0   \n",
      "4                             0                              1   \n",
      "...                         ...                            ...   \n",
      "8518                          0                              1   \n",
      "8519                          0                              1   \n",
      "8520                          0                              1   \n",
      "8521                          0                              0   \n",
      "8522                          0                              1   \n",
      "\n",
      "      Outlet_Type_Supermarket Type2  Outlet_Type_Supermarket Type3  \n",
      "0                                 0                              0  \n",
      "1                                 1                              0  \n",
      "2                                 0                              0  \n",
      "3                                 0                              0  \n",
      "4                                 0                              0  \n",
      "...                             ...                            ...  \n",
      "8518                              0                              0  \n",
      "8519                              0                              0  \n",
      "8520                              0                              0  \n",
      "8521                              1                              0  \n",
      "8522                              0                              0  \n",
      "\n",
      "[8523 rows x 36 columns]\n"
     ]
    }
   ],
   "source": [
    "dummy=pd.get_dummies(data)\n",
    "print(dummy)"
   ]
  },
  {
   "cell_type": "code",
   "execution_count": 4,
   "id": "ce07828c",
   "metadata": {},
   "outputs": [
    {
     "data": {
      "text/plain": [
       "(8523, 10)"
      ]
     },
     "execution_count": 4,
     "metadata": {},
     "output_type": "execute_result"
    }
   ],
   "source": [
    "data.shape"
   ]
  },
  {
   "cell_type": "code",
   "execution_count": 5,
   "id": "44341b5b",
   "metadata": {},
   "outputs": [
    {
     "data": {
      "text/plain": [
       "Index(['Item_Weight', 'Item_Fat_Content', 'Item_Visibility', 'Item_Type',\n",
       "       'Item_MRP', 'Outlet_Establishment_Year', 'Outlet_Size',\n",
       "       'Outlet_Location_Type', 'Outlet_Type', 'Item_Outlet_Sales'],\n",
       "      dtype='object')"
      ]
     },
     "execution_count": 5,
     "metadata": {},
     "output_type": "execute_result"
    }
   ],
   "source": [
    "data.columns"
   ]
  },
  {
   "cell_type": "code",
   "execution_count": 6,
   "id": "27248239",
   "metadata": {},
   "outputs": [
    {
     "data": {
      "text/plain": [
       "Item_Weight                  1463\n",
       "Item_Fat_Content                0\n",
       "Item_Visibility                 0\n",
       "Item_Type                       0\n",
       "Item_MRP                        0\n",
       "Outlet_Establishment_Year       0\n",
       "Outlet_Size                  2410\n",
       "Outlet_Location_Type            0\n",
       "Outlet_Type                     0\n",
       "Item_Outlet_Sales               0\n",
       "dtype: int64"
      ]
     },
     "execution_count": 6,
     "metadata": {},
     "output_type": "execute_result"
    }
   ],
   "source": [
    "data.isnull().sum()"
   ]
  },
  {
   "cell_type": "code",
   "execution_count": 7,
   "id": "9d84cac0",
   "metadata": {},
   "outputs": [
    {
     "data": {
      "text/plain": [
       "12.857645184136183"
      ]
     },
     "execution_count": 7,
     "metadata": {},
     "output_type": "execute_result"
    }
   ],
   "source": [
    "data.Item_Weight.mean()"
   ]
  },
  {
   "cell_type": "code",
   "execution_count": 8,
   "id": "bc6bf8a7",
   "metadata": {},
   "outputs": [
    {
     "data": {
      "text/plain": [
       "array([ 9.3  ,  5.92 , 17.5  , 19.2  ,  8.93 , 10.395, 13.65 ,    nan,\n",
       "       16.2  , 11.8  , 18.5  , 15.1  , 17.6  , 16.35 ,  9.   , 13.35 ,\n",
       "       18.85 , 14.6  , 13.85 , 13.   ,  7.645, 11.65 ,  5.925, 19.25 ,\n",
       "       18.6  , 18.7  , 17.85 , 10.   ,  8.85 ,  9.8  , 13.6  , 21.35 ,\n",
       "       12.15 ,  6.42 , 19.6  , 15.85 ,  7.39 , 10.195,  9.895, 10.895,\n",
       "        7.905,  9.195,  8.365,  7.97 , 17.7  , 19.35 ,  8.645, 15.6  ,\n",
       "       18.25 ,  7.855,  7.825,  8.39 , 12.85 , 19.   ,  5.905,  7.76 ,\n",
       "       16.75 , 15.5  ,  6.055,  6.305, 20.85 , 20.75 ,  8.895, 19.7  ,\n",
       "        8.75 , 13.3  ,  8.31 , 19.75 , 17.1  , 10.5  ,  6.635, 14.15 ,\n",
       "        8.89 ,  9.1  ,  7.5  , 16.85 ,  7.485, 11.6  , 12.65 , 20.25 ,\n",
       "        8.6  , 12.6  ,  8.88 , 20.5  , 13.5  ,  7.235,  6.92 ,  8.02 ,\n",
       "       12.8  , 16.6  , 14.   , 16.   , 21.25 ,  7.365, 18.35 ,  5.465,\n",
       "        7.27 ,  6.155, 19.5  , 15.2  , 14.5  , 13.1  , 12.3  , 11.1  ,\n",
       "       11.3  ,  5.75 , 11.35 ,  6.525, 10.3  ,  5.78 , 11.85 , 18.75 ,\n",
       "        5.26 , 16.1  ,  9.5  , 13.8  , 14.65 ,  6.67 ,  6.11 , 17.2  ,\n",
       "        6.32 ,  4.88 ,  5.425, 14.1  ,  7.55 , 17.25 , 12.   , 10.1  ,\n",
       "        7.785, 13.15 ,  8.5  ,  7.63 ,  9.285,  7.975, 15.7  ,  8.985,\n",
       "       20.35 ,  6.59 , 19.85 ,  6.26 , 18.2  ,  8.695,  7.075,  8.195,\n",
       "        7.09 ,  6.095,  6.15 ,  9.395, 15.75 ,  7.475,  6.445, 19.1  ,\n",
       "       15.   , 16.7  ,  7.07 ,  6.48 ,  9.695, 11.15 ,  9.6  , 20.7  ,\n",
       "        5.5  ,  7.895, 17.35 ,  7.285,  6.17 , 11.395,  7.71 , 12.1  ,\n",
       "       14.35 ,  8.1  ,  8.05 , 16.5  ,  6.785,  7.575,  7.47 , 15.25 ,\n",
       "        7.605, 18.   , 21.2  ,  8.97 , 10.6  ,  6.865, 10.8  , 15.15 ,\n",
       "       18.1  ,  6.655, 20.1  ,  7.935, 15.35 , 12.35 ,  6.85 ,  8.775,\n",
       "       14.85 ,  7.84 , 12.5  ,  8.325,  5.765,  5.985, 14.3  ,  6.135,\n",
       "        8.51 ,  6.65 ,  5.695,  6.36 ,  8.3  ,  7.56 ,  8.71 ,  6.695,\n",
       "       14.8  , 17.75 ,  8.575,  6.57 ,  8.68 ,  5.63 ,  9.13 ,  6.715,\n",
       "        5.82 ,  7.93 ,  5.   ,  7.445,  6.675,  8.18 ,  6.98 ,  7.435,\n",
       "       20.6  ,  8.355,  8.975, 20.2  ,  5.655,  5.175, 20.   ,  7.67 ,\n",
       "        4.785,  8.395,  6.175,  8.21 ,  5.845,  7.17 ,  8.785,  7.89 ,\n",
       "        5.32 ,  5.03 ,  8.945,  6.28 ,  7.565,  9.31 ,  7.02 ,  5.46 ,\n",
       "        6.13 ,  6.55 , 17.   , 16.25 ,  5.15 ,  7.865,  6.575,  7.06 ,\n",
       "        5.785,  7.42 ,  6.235,  6.75 ,  5.86 ,  5.035,  6.38 ,  5.675,\n",
       "       11.5  , 21.   , 21.1  ,  4.61 ,  7.   ,  6.405, 14.7  ,  7.68 ,\n",
       "        8.185,  8.655, 10.85 ,  8.42 ,  7.85 ,  4.59 ,  7.51 , 11.   ,\n",
       "        6.71 , 14.75 ,  7.59 ,  5.155,  6.365,  8.235,  5.365,  8.485,\n",
       "        7.535,  4.92 ,  6.385,  8.26 ,  7.945,  8.63 ,  9.21 ,  6.965,\n",
       "        8.905,  7.21 ,  7.3  ,  9.27 , 10.695,  6.215,  7.405,  7.72 ,\n",
       "        6.115,  6.035,  6.78 , 15.3  ,  7.105,  7.52 ,  4.805,  6.425,\n",
       "        7.6  ,  6.61 ,  7.325,  8.115,  5.94 ,  5.635,  7.35 ,  5.825,\n",
       "        6.63 ,  7.05 ,  8.315,  6.8  ,  7.035,  8.96 ,  5.51 ,  8.43 ,\n",
       "        8.27 ,  7.81 ,  6.885,  5.44 ,  5.405,  4.635, 10.65 ,  5.735,\n",
       "        6.465,  8.84 ,  7.75 ,  6.765,  9.065,  7.655,  4.615,  8.76 ,\n",
       "        7.1  ,  6.195,  5.615,  8.52 ,  7.26 ,  6.825,  5.325,  5.59 ,\n",
       "        5.88 ,  5.19 ,  6.985,  9.06 ,  6.69 ,  8.615,  7.275,  6.96 ,\n",
       "        9.17 ,  8.155,  5.73 ,  8.935,  8.92 ,  7.36 ,  7.64 ,  5.34 ,\n",
       "        7.22 ,  6.615,  6.76 ,  6.3  ,  5.98 ,  8.06 ,  6.44 ,  5.095,\n",
       "        8.8  ,  6.325,  7.31 ,  9.035,  9.105,  7.145,  4.905,  4.555,\n",
       "        8.   ,  7.315,  6.89 ,  5.945,  6.86 ,  6.935,  6.03 ,  7.725,\n",
       "        5.885,  7.155,  6.46 ,  5.48 ,  8.01 ,  5.8  ,  5.305,  6.905,\n",
       "        7.96 ,  5.11 ,  8.77 ,  7.685,  8.275,  8.38 ,  8.35 ,  9.42 ,\n",
       "        6.775,  6.4  ,  6.895,  5.485,  6.52 ,  8.67 ,  5.21 ,  5.4  ])"
      ]
     },
     "execution_count": 8,
     "metadata": {},
     "output_type": "execute_result"
    }
   ],
   "source": [
    "data.Item_Weight.unique()"
   ]
  },
  {
   "cell_type": "code",
   "execution_count": 9,
   "id": "e99bdb6a",
   "metadata": {},
   "outputs": [],
   "source": [
    "data.Item_Weight.fillna(12.85,inplace=True)"
   ]
  },
  {
   "cell_type": "code",
   "execution_count": 10,
   "id": "ab8ad39f",
   "metadata": {},
   "outputs": [
    {
     "data": {
      "text/plain": [
       "0"
      ]
     },
     "execution_count": 10,
     "metadata": {},
     "output_type": "execute_result"
    }
   ],
   "source": [
    "data.Item_Weight.isnull().sum()"
   ]
  },
  {
   "cell_type": "code",
   "execution_count": 11,
   "id": "69518a7d",
   "metadata": {},
   "outputs": [
    {
     "data": {
      "text/plain": [
       "{'whiskers': [<matplotlib.lines.Line2D at 0x25365b2a730>,\n",
       "  <matplotlib.lines.Line2D at 0x25365b2aa00>],\n",
       " 'caps': [<matplotlib.lines.Line2D at 0x25365b2ad90>,\n",
       "  <matplotlib.lines.Line2D at 0x25365b3a160>],\n",
       " 'boxes': [<matplotlib.lines.Line2D at 0x25365b2a2e0>],\n",
       " 'medians': [<matplotlib.lines.Line2D at 0x25365b3a4f0>],\n",
       " 'fliers': [<matplotlib.lines.Line2D at 0x25365b3a880>],\n",
       " 'means': []}"
      ]
     },
     "execution_count": 11,
     "metadata": {},
     "output_type": "execute_result"
    },
    {
     "data": {
      "image/png": "[encoded data removed]",
      "text/plain": [
       "<Figure size 432x288 with 1 Axes>"
      ]
     },
     "metadata": {
      "needs_background": "light"
     },
     "output_type": "display_data"
    }
   ],
   "source": [
    "plt.boxplot(data.Item_Weight)"
   ]
  },
  {
   "cell_type": "code",
   "execution_count": 12,
   "id": "5992981a",
   "metadata": {
    "scrolled": true
   },
   "outputs": [
    {
     "name": "stderr",
     "output_type": "stream",
     "text": [
      "C:\\Users\\USER\\anaconda3\\lib\\site-packages\\scipy\\stats\\morestats.py:1760: UserWarning: p-value may not be accurate for N > 5000.\n",
      "  warnings.warn(\"p-value may not be accurate for N > 5000.\")\n"
     ]
    },
    {
     "data": {
      "text/plain": [
       "ShapiroResult(statistic=0.96797776222229, pvalue=8.656072847857974e-40)"
      ]
     },
     "execution_count": 12,
     "metadata": {},
     "output_type": "execute_result"
    }
   ],
   "source": [
    "stats.shapiro(data.Item_Weight)"
   ]
  },
  {
   "cell_type": "code",
   "execution_count": 13,
   "id": "7c2faaf6",
   "metadata": {},
   "outputs": [
    {
     "data": {
      "text/plain": [
       "(0.011494967105270478, 0.2886463383465571)"
      ]
     },
     "execution_count": 13,
     "metadata": {},
     "output_type": "execute_result"
    }
   ],
   "source": [
    "stats.pearsonr(data.Item_Weight,data.Item_Outlet_Sales)"
   ]
  },
  {
   "cell_type": "markdown",
   "id": "c91f2177",
   "metadata": {},
   "source": [
    "<H6>\n",
    "WEIGHT affects sales p<0.05\n",
    "<H6>"
   ]
  },
  {
   "cell_type": "code",
   "execution_count": 14,
   "id": "64572d49",
   "metadata": {},
   "outputs": [
    {
     "name": "stderr",
     "output_type": "stream",
     "text": [
      "C:\\Users\\USER\\anaconda3\\lib\\site-packages\\seaborn\\_decorators.py:36: FutureWarning: Pass the following variable as a keyword arg: x. From version 0.12, the only valid positional argument will be `data`, and passing other arguments without an explicit keyword will result in an error or misinterpretation.\n",
      "  warnings.warn(\n"
     ]
    },
    {
     "data": {
      "text/plain": [
       "<AxesSubplot:xlabel='Item_Fat_Content', ylabel='count'>"
      ]
     },
     "execution_count": 14,
     "metadata": {},
     "output_type": "execute_result"
    },
    {
     "data": {
      "image/png": "[encoded data removed]",
      "text/plain": [
       "<Figure size 432x288 with 1 Axes>"
      ]
     },
     "metadata": {
      "needs_background": "light"
     },
     "output_type": "display_data"
    }
   ],
   "source": [
    "sns.countplot(data.Item_Fat_Content)"
   ]
  },
  {
   "cell_type": "code",
   "execution_count": 15,
   "id": "e2e415cc",
   "metadata": {},
   "outputs": [],
   "source": [
    "data.Item_Fat_Content.replace(['Low Fat','Regular','LF','reg','low fat'],[0,1,0,1,0],inplace=True)"
   ]
  },
  {
   "cell_type": "code",
   "execution_count": 16,
   "id": "86a4b9f0",
   "metadata": {},
   "outputs": [
    {
     "data": {
      "text/plain": [
       "0    5517\n",
       "1    3006\n",
       "Name: Item_Fat_Content, dtype: int64"
      ]
     },
     "execution_count": 16,
     "metadata": {},
     "output_type": "execute_result"
    }
   ],
   "source": [
    "data.Item_Fat_Content.value_counts()"
   ]
  },
  {
   "cell_type": "code",
   "execution_count": 17,
   "id": "1442ff0c",
   "metadata": {},
   "outputs": [
    {
     "name": "stderr",
     "output_type": "stream",
     "text": [
      "C:\\Users\\USER\\anaconda3\\lib\\site-packages\\seaborn\\_decorators.py:36: FutureWarning: Pass the following variable as a keyword arg: x. From version 0.12, the only valid positional argument will be `data`, and passing other arguments without an explicit keyword will result in an error or misinterpretation.\n",
      "  warnings.warn(\n"
     ]
    },
    {
     "data": {
      "text/plain": [
       "<AxesSubplot:xlabel='Item_Fat_Content', ylabel='count'>"
      ]
     },
     "execution_count": 17,
     "metadata": {},
     "output_type": "execute_result"
    },
    {
     "data": {
      "image/png": "[encoded data removed]",
      "text/plain": [
       "<Figure size 432x288 with 1 Axes>"
      ]
     },
     "metadata": {
      "needs_background": "light"
     },
     "output_type": "display_data"
    }
   ],
   "source": [
    "sns.countplot(data.Item_Fat_Content)"
   ]
  },
  {
   "cell_type": "code",
   "execution_count": 18,
   "id": "1e0a5d12",
   "metadata": {},
   "outputs": [
    {
     "data": {
      "text/plain": [
       "F_onewayResult(statistic=2.98666429015733, pvalue=0.08398916967694944)"
      ]
     },
     "execution_count": 18,
     "metadata": {},
     "output_type": "execute_result"
    }
   ],
   "source": [
    "part1=data.Item_Outlet_Sales[data.Item_Fat_Content==0]\n",
    "part2=data.Item_Outlet_Sales[data.Item_Fat_Content==1]\n",
    "stats.f_oneway(part1,part2)"
   ]
  },
  {
   "cell_type": "markdown",
   "id": "cebc02c7",
   "metadata": {},
   "source": [
    "<H6>\n",
    "fat not affects sales p>0.05\n",
    "<H6>"
   ]
  },
  {
   "cell_type": "markdown",
   "id": "43b8854b",
   "metadata": {},
   "source": [
    "<H6>\n",
    "Hypothesis testing----item visibility and sales\n",
    "<H6>"
   ]
  },
  {
   "cell_type": "code",
   "execution_count": 19,
   "id": "ef6a6efd",
   "metadata": {},
   "outputs": [
    {
     "data": {
      "text/plain": [
       "0"
      ]
     },
     "execution_count": 19,
     "metadata": {},
     "output_type": "execute_result"
    }
   ],
   "source": [
    "data.Item_Visibility.isnull().sum()"
   ]
  },
  {
   "cell_type": "code",
   "execution_count": 20,
   "id": "09b94101",
   "metadata": {},
   "outputs": [
    {
     "data": {
      "text/plain": [
       "{'whiskers': [<matplotlib.lines.Line2D at 0x2536aa89070>,\n",
       "  <matplotlib.lines.Line2D at 0x2536aa89400>],\n",
       " 'caps': [<matplotlib.lines.Line2D at 0x2536aa89790>,\n",
       "  <matplotlib.lines.Line2D at 0x2536aa89b20>],\n",
       " 'boxes': [<matplotlib.lines.Line2D at 0x2536aa7aca0>],\n",
       " 'medians': [<matplotlib.lines.Line2D at 0x2536aa89eb0>],\n",
       " 'fliers': [<matplotlib.lines.Line2D at 0x2536aa96280>],\n",
       " 'means': []}"
      ]
     },
     "execution_count": 20,
     "metadata": {},
     "output_type": "execute_result"
    },
    {
     "data": {
      "image/png": "[encoded data removed]",
      "text/plain": [
       "<Figure size 432x288 with 1 Axes>"
      ]
     },
     "metadata": {
      "needs_background": "light"
     },
     "output_type": "display_data"
    }
   ],
   "source": [
    "plt.boxplot(data.Item_Visibility)"
   ]
  },
  {
   "cell_type": "code",
   "execution_count": 21,
   "id": "af285c65",
   "metadata": {},
   "outputs": [
    {
     "name": "stderr",
     "output_type": "stream",
     "text": [
      "C:\\Users\\USER\\anaconda3\\lib\\site-packages\\scipy\\stats\\morestats.py:1760: UserWarning: p-value may not be accurate for N > 5000.\n",
      "  warnings.warn(\"p-value may not be accurate for N > 5000.\")\n"
     ]
    },
    {
     "data": {
      "text/plain": [
       "ShapiroResult(statistic=0.914004385471344, pvalue=0.0)"
      ]
     },
     "execution_count": 21,
     "metadata": {},
     "output_type": "execute_result"
    }
   ],
   "source": [
    "stats.shapiro(data.Item_Visibility)"
   ]
  },
  {
   "cell_type": "code",
   "execution_count": 22,
   "id": "6446bc61",
   "metadata": {},
   "outputs": [
    {
     "data": {
      "text/plain": [
       "(-0.1286246122207702, 9.041287180034548e-33)"
      ]
     },
     "execution_count": 22,
     "metadata": {},
     "output_type": "execute_result"
    }
   ],
   "source": [
    "stats.pearsonr(data.Item_Visibility,data.Item_Outlet_Sales)"
   ]
  },
  {
   "cell_type": "markdown",
   "id": "fd77ea1d",
   "metadata": {},
   "source": [
    "### item visibility rejected weak strength\n"
   ]
  },
  {
   "cell_type": "markdown",
   "id": "959d8357",
   "metadata": {},
   "source": [
    "### hypothesis testing item type\n"
   ]
  },
  {
   "cell_type": "code",
   "execution_count": 23,
   "id": "91297e53",
   "metadata": {},
   "outputs": [
    {
     "data": {
      "text/plain": [
       "count                      8523\n",
       "unique                       16\n",
       "top       Fruits and Vegetables\n",
       "freq                       1232\n",
       "Name: Item_Type, dtype: object"
      ]
     },
     "execution_count": 23,
     "metadata": {},
     "output_type": "execute_result"
    }
   ],
   "source": [
    "data.Item_Type.describe()"
   ]
  },
  {
   "cell_type": "code",
   "execution_count": 24,
   "id": "7175a78b",
   "metadata": {},
   "outputs": [
    {
     "data": {
      "text/plain": [
       "Fruits and Vegetables    1232\n",
       "Snack Foods              1200\n",
       "Household                 910\n",
       "Frozen Foods              856\n",
       "Dairy                     682\n",
       "Canned                    649\n",
       "Baking Goods              648\n",
       "Health and Hygiene        520\n",
       "Soft Drinks               445\n",
       "Meat                      425\n",
       "Breads                    251\n",
       "Hard Drinks               214\n",
       "Others                    169\n",
       "Starchy Foods             148\n",
       "Breakfast                 110\n",
       "Seafood                    64\n",
       "Name: Item_Type, dtype: int64"
      ]
     },
     "execution_count": 24,
     "metadata": {},
     "output_type": "execute_result"
    }
   ],
   "source": [
    "data.Item_Type.value_counts()"
   ]
  },
  {
   "cell_type": "code",
   "execution_count": 25,
   "id": "309ddf03",
   "metadata": {},
   "outputs": [
    {
     "data": {
      "text/plain": [
       "0"
      ]
     },
     "execution_count": 25,
     "metadata": {},
     "output_type": "execute_result"
    }
   ],
   "source": [
    "data.Item_Type.isnull().sum()"
   ]
  },
  {
   "cell_type": "code",
   "execution_count": 26,
   "id": "b75ab560",
   "metadata": {},
   "outputs": [],
   "source": [
    "data.Item_Type.replace(['Fruits and Vegetables','Snack Foods','Household','Frozen Foods','Dairy','Canned', 'Baking Goods','Health and Hygiene','Soft Drinks','Meat','Breads','Hard Drinks','Others','Starchy Foods','Breakfast','Seafood'],[1,2,3,4,5,6,7,8,9,10,11,12,13,14,15,16],inplace=True)"
   ]
  },
  {
   "cell_type": "code",
   "execution_count": 27,
   "id": "eb187c19",
   "metadata": {},
   "outputs": [
    {
     "name": "stderr",
     "output_type": "stream",
     "text": [
      "C:\\Users\\USER\\anaconda3\\lib\\site-packages\\seaborn\\_decorators.py:36: FutureWarning: Pass the following variable as a keyword arg: x. From version 0.12, the only valid positional argument will be `data`, and passing other arguments without an explicit keyword will result in an error or misinterpretation.\n",
      "  warnings.warn(\n"
     ]
    },
    {
     "data": {
      "text/plain": [
       "<AxesSubplot:xlabel='Item_Type', ylabel='count'>"
      ]
     },
     "execution_count": 27,
     "metadata": {},
     "output_type": "execute_result"
    },
    {
     "data": {
      "image/png": "[encoded data removed]",
      "text/plain": [
       "<Figure size 432x288 with 1 Axes>"
      ]
     },
     "metadata": {
      "needs_background": "light"
     },
     "output_type": "display_data"
    }
   ],
   "source": [
    "sns.countplot(data.Item_Type)"
   ]
  },
  {
   "cell_type": "code",
   "execution_count": 28,
   "id": "bdfef795",
   "metadata": {},
   "outputs": [
    {
     "data": {
      "text/plain": [
       "F_onewayResult(statistic=2.7006532875210416, pvalue=0.00038843993766501125)"
      ]
     },
     "execution_count": 28,
     "metadata": {},
     "output_type": "execute_result"
    }
   ],
   "source": [
    "part1=data.Item_Outlet_Sales[data.Item_Type==1]\n",
    "part2=data.Item_Outlet_Sales[data.Item_Type==2]\n",
    "part3=data.Item_Outlet_Sales[data.Item_Type==3]\n",
    "part4=data.Item_Outlet_Sales[data.Item_Type==4]\n",
    "part5=data.Item_Outlet_Sales[data.Item_Type==5]\n",
    "part6=data.Item_Outlet_Sales[data.Item_Type==6]\n",
    "part7=data.Item_Outlet_Sales[data.Item_Type==7]\n",
    "part8=data.Item_Outlet_Sales[data.Item_Type==8]\n",
    "part9=data.Item_Outlet_Sales[data.Item_Type==9]\n",
    "part10=data.Item_Outlet_Sales[data.Item_Type==10]\n",
    "part11=data.Item_Outlet_Sales[data.Item_Type==11]\n",
    "part12=data.Item_Outlet_Sales[data.Item_Type==12]\n",
    "part13=data.Item_Outlet_Sales[data.Item_Type==13]\n",
    "part14=data.Item_Outlet_Sales[data.Item_Type==14]\n",
    "part15=data.Item_Outlet_Sales[data.Item_Type==15]\n",
    "part16=data.Item_Outlet_Sales[data.Item_Type==16]\n",
    "stats.f_oneway(part1,part2,part3,part4,part5,part6,part7,part8,part9,part10,part11,part12,part13,part14,part15,part16)"
   ]
  },
  {
   "cell_type": "markdown",
   "id": "d228b660",
   "metadata": {},
   "source": [
    "### item mrp hypothesis testing\n",
    "    \n"
   ]
  },
  {
   "cell_type": "code",
   "execution_count": 29,
   "id": "c9bc147a",
   "metadata": {},
   "outputs": [
    {
     "data": {
      "text/plain": [
       "{'whiskers': [<matplotlib.lines.Line2D at 0x2536bb76ac0>,\n",
       "  <matplotlib.lines.Line2D at 0x2536bb76e50>],\n",
       " 'caps': [<matplotlib.lines.Line2D at 0x2536bb85220>,\n",
       "  <matplotlib.lines.Line2D at 0x2536bb855b0>],\n",
       " 'boxes': [<matplotlib.lines.Line2D at 0x2536bb76730>],\n",
       " 'medians': [<matplotlib.lines.Line2D at 0x2536bb85940>],\n",
       " 'fliers': [<matplotlib.lines.Line2D at 0x2536bb85cd0>],\n",
       " 'means': []}"
      ]
     },
     "execution_count": 29,
     "metadata": {},
     "output_type": "execute_result"
    },
    {
     "data": {
      "image/png": "[encoded data removed]",
      "text/plain": [
       "<Figure size 432x288 with 1 Axes>"
      ]
     },
     "metadata": {
      "needs_background": "light"
     },
     "output_type": "display_data"
    }
   ],
   "source": [
    "plt.boxplot(data.Item_MRP)"
   ]
  },
  {
   "cell_type": "code",
   "execution_count": 30,
   "id": "4b7a8979",
   "metadata": {},
   "outputs": [
    {
     "name": "stderr",
     "output_type": "stream",
     "text": [
      "C:\\Users\\USER\\anaconda3\\lib\\site-packages\\scipy\\stats\\morestats.py:1760: UserWarning: p-value may not be accurate for N > 5000.\n",
      "  warnings.warn(\"p-value may not be accurate for N > 5000.\")\n"
     ]
    },
    {
     "data": {
      "text/plain": [
       "ShapiroResult(statistic=0.9715956449508667, pvalue=5.629270967513297e-38)"
      ]
     },
     "execution_count": 30,
     "metadata": {},
     "output_type": "execute_result"
    }
   ],
   "source": [
    "stats.shapiro(data.Item_MRP)"
   ]
  },
  {
   "cell_type": "code",
   "execution_count": 31,
   "id": "9b748ddb",
   "metadata": {},
   "outputs": [
    {
     "data": {
      "text/plain": [
       "(0.5675744466569191, 0.0)"
      ]
     },
     "execution_count": 31,
     "metadata": {},
     "output_type": "execute_result"
    }
   ],
   "source": [
    "stats.pearsonr(data.Item_MRP,data.Item_Outlet_Sales)"
   ]
  },
  {
   "cell_type": "markdown",
   "id": "7b296ce2",
   "metadata": {},
   "source": [
    "### item mrp rejected weak\n"
   ]
  },
  {
   "cell_type": "markdown",
   "id": "22cdd50d",
   "metadata": {},
   "source": [
    "### OUTLET SIZE HYPOTHESIS\n"
   ]
  },
  {
   "cell_type": "code",
   "execution_count": 32,
   "id": "8e995b8c",
   "metadata": {},
   "outputs": [
    {
     "data": {
      "text/plain": [
       "Medium    2793\n",
       "Small     2388\n",
       "High       932\n",
       "Name: Outlet_Size, dtype: int64"
      ]
     },
     "execution_count": 32,
     "metadata": {},
     "output_type": "execute_result"
    }
   ],
   "source": [
    "data.Outlet_Size.value_counts()"
   ]
  },
  {
   "cell_type": "code",
   "execution_count": 33,
   "id": "9d18bc17",
   "metadata": {},
   "outputs": [],
   "source": [
    "data.Outlet_Size.fillna('others',inplace=True)"
   ]
  },
  {
   "cell_type": "code",
   "execution_count": 34,
   "id": "829a8ed1",
   "metadata": {},
   "outputs": [
    {
     "data": {
      "text/plain": [
       "0"
      ]
     },
     "execution_count": 34,
     "metadata": {},
     "output_type": "execute_result"
    }
   ],
   "source": [
    "data.Outlet_Size.isnull().sum()"
   ]
  },
  {
   "cell_type": "code",
   "execution_count": 35,
   "id": "7b3c1e6a",
   "metadata": {},
   "outputs": [
    {
     "data": {
      "text/html": [
       "<div>\n",
       "<style scoped>\n",
       "    .dataframe tbody tr th:only-of-type {\n",
       "        vertical-align: middle;\n",
       "    }\n",
       "\n",
       "    .dataframe tbody tr th {\n",
       "        vertical-align: top;\n",
       "    }\n",
       "\n",
       "    .dataframe thead th {\n",
       "        text-align: right;\n",
       "    }\n",
       "</style>\n",
       "<table border=\"1\" class=\"dataframe\">\n",
       "  <thead>\n",
       "    <tr style=\"text-align: right;\">\n",
       "      <th></th>\n",
       "      <th>High</th>\n",
       "      <th>Medium</th>\n",
       "      <th>Small</th>\n",
       "      <th>others</th>\n",
       "    </tr>\n",
       "  </thead>\n",
       "  <tbody>\n",
       "    <tr>\n",
       "      <th>0</th>\n",
       "      <td>0</td>\n",
       "      <td>1</td>\n",
       "      <td>0</td>\n",
       "      <td>0</td>\n",
       "    </tr>\n",
       "    <tr>\n",
       "      <th>1</th>\n",
       "      <td>0</td>\n",
       "      <td>1</td>\n",
       "      <td>0</td>\n",
       "      <td>0</td>\n",
       "    </tr>\n",
       "    <tr>\n",
       "      <th>2</th>\n",
       "      <td>0</td>\n",
       "      <td>1</td>\n",
       "      <td>0</td>\n",
       "      <td>0</td>\n",
       "    </tr>\n",
       "    <tr>\n",
       "      <th>3</th>\n",
       "      <td>0</td>\n",
       "      <td>0</td>\n",
       "      <td>0</td>\n",
       "      <td>1</td>\n",
       "    </tr>\n",
       "    <tr>\n",
       "      <th>4</th>\n",
       "      <td>1</td>\n",
       "      <td>0</td>\n",
       "      <td>0</td>\n",
       "      <td>0</td>\n",
       "    </tr>\n",
       "    <tr>\n",
       "      <th>...</th>\n",
       "      <td>...</td>\n",
       "      <td>...</td>\n",
       "      <td>...</td>\n",
       "      <td>...</td>\n",
       "    </tr>\n",
       "    <tr>\n",
       "      <th>8518</th>\n",
       "      <td>1</td>\n",
       "      <td>0</td>\n",
       "      <td>0</td>\n",
       "      <td>0</td>\n",
       "    </tr>\n",
       "    <tr>\n",
       "      <th>8519</th>\n",
       "      <td>0</td>\n",
       "      <td>0</td>\n",
       "      <td>0</td>\n",
       "      <td>1</td>\n",
       "    </tr>\n",
       "    <tr>\n",
       "      <th>8520</th>\n",
       "      <td>0</td>\n",
       "      <td>0</td>\n",
       "      <td>1</td>\n",
       "      <td>0</td>\n",
       "    </tr>\n",
       "    <tr>\n",
       "      <th>8521</th>\n",
       "      <td>0</td>\n",
       "      <td>1</td>\n",
       "      <td>0</td>\n",
       "      <td>0</td>\n",
       "    </tr>\n",
       "    <tr>\n",
       "      <th>8522</th>\n",
       "      <td>0</td>\n",
       "      <td>0</td>\n",
       "      <td>1</td>\n",
       "      <td>0</td>\n",
       "    </tr>\n",
       "  </tbody>\n",
       "</table>\n",
       "<p>8523 rows × 4 columns</p>\n",
       "</div>"
      ],
      "text/plain": [
       "      High  Medium  Small  others\n",
       "0        0       1      0       0\n",
       "1        0       1      0       0\n",
       "2        0       1      0       0\n",
       "3        0       0      0       1\n",
       "4        1       0      0       0\n",
       "...    ...     ...    ...     ...\n",
       "8518     1       0      0       0\n",
       "8519     0       0      0       1\n",
       "8520     0       0      1       0\n",
       "8521     0       1      0       0\n",
       "8522     0       0      1       0\n",
       "\n",
       "[8523 rows x 4 columns]"
      ]
     },
     "execution_count": 35,
     "metadata": {},
     "output_type": "execute_result"
    }
   ],
   "source": [
    "pd.get_dummies(data.Outlet_Size)"
   ]
  },
  {
   "cell_type": "code",
   "execution_count": 36,
   "id": "24cd0ae8",
   "metadata": {},
   "outputs": [
    {
     "name": "stdout",
     "output_type": "stream",
     "text": [
      "      Item_Weight  Item_Fat_Content  Item_Visibility  Item_Type  Item_MRP  \\\n",
      "0           9.300                 0         0.016047          5  249.8092   \n",
      "1           5.920                 1         0.019278          9   48.2692   \n",
      "2          17.500                 0         0.016760         10  141.6180   \n",
      "3          19.200                 1         0.000000          1  182.0950   \n",
      "4           8.930                 0         0.000000          3   53.8614   \n",
      "...           ...               ...              ...        ...       ...   \n",
      "8518        6.865                 0         0.056783          2  214.5218   \n",
      "8519        8.380                 1         0.046982          7  108.1570   \n",
      "8520       10.600                 0         0.035186          8   85.1224   \n",
      "8521        7.210                 1         0.145221          2  103.1332   \n",
      "8522       14.800                 0         0.044878          9   75.4670   \n",
      "\n",
      "      Outlet_Establishment_Year  Item_Outlet_Sales  Outlet_Size_High  \\\n",
      "0                          1999          3735.1380                 0   \n",
      "1                          2009           443.4228                 0   \n",
      "2                          1999          2097.2700                 0   \n",
      "3                          1998           732.3800                 0   \n",
      "4                          1987           994.7052                 1   \n",
      "...                         ...                ...               ...   \n",
      "8518                       1987          2778.3834                 1   \n",
      "8519                       2002           549.2850                 0   \n",
      "8520                       2004          1193.1136                 0   \n",
      "8521                       2009          1845.5976                 0   \n",
      "8522                       1997           765.6700                 0   \n",
      "\n",
      "      Outlet_Size_Medium  Outlet_Size_Small  Outlet_Size_others  \\\n",
      "0                      1                  0                   0   \n",
      "1                      1                  0                   0   \n",
      "2                      1                  0                   0   \n",
      "3                      0                  0                   1   \n",
      "4                      0                  0                   0   \n",
      "...                  ...                ...                 ...   \n",
      "8518                   0                  0                   0   \n",
      "8519                   0                  0                   1   \n",
      "8520                   0                  1                   0   \n",
      "8521                   1                  0                   0   \n",
      "8522                   0                  1                   0   \n",
      "\n",
      "      Outlet_Location_Type_Tier 1  Outlet_Location_Type_Tier 2  \\\n",
      "0                               1                            0   \n",
      "1                               0                            0   \n",
      "2                               1                            0   \n",
      "3                               0                            0   \n",
      "4                               0                            0   \n",
      "...                           ...                          ...   \n",
      "8518                            0                            0   \n",
      "8519                            0                            1   \n",
      "8520                            0                            1   \n",
      "8521                            0                            0   \n",
      "8522                            1                            0   \n",
      "\n",
      "      Outlet_Location_Type_Tier 3  Outlet_Type_Grocery Store  \\\n",
      "0                               0                          0   \n",
      "1                               1                          0   \n",
      "2                               0                          0   \n",
      "3                               1                          1   \n",
      "4                               1                          0   \n",
      "...                           ...                        ...   \n",
      "8518                            1                          0   \n",
      "8519                            0                          0   \n",
      "8520                            0                          0   \n",
      "8521                            1                          0   \n",
      "8522                            0                          0   \n",
      "\n",
      "      Outlet_Type_Supermarket Type1  Outlet_Type_Supermarket Type2  \\\n",
      "0                                 1                              0   \n",
      "1                                 0                              1   \n",
      "2                                 1                              0   \n",
      "3                                 0                              0   \n",
      "4                                 1                              0   \n",
      "...                             ...                            ...   \n",
      "8518                              1                              0   \n",
      "8519                              1                              0   \n",
      "8520                              1                              0   \n",
      "8521                              0                              1   \n",
      "8522                              1                              0   \n",
      "\n",
      "      Outlet_Type_Supermarket Type3  \n",
      "0                                 0  \n",
      "1                                 0  \n",
      "2                                 0  \n",
      "3                                 0  \n",
      "4                                 0  \n",
      "...                             ...  \n",
      "8518                              0  \n",
      "8519                              0  \n",
      "8520                              0  \n",
      "8521                              0  \n",
      "8522                              0  \n",
      "\n",
      "[8523 rows x 18 columns]\n"
     ]
    }
   ],
   "source": [
    "dummy=pd.get_dummies(data)\n",
    "print(dummy)"
   ]
  },
  {
   "cell_type": "code",
   "execution_count": 37,
   "id": "ea237fd4",
   "metadata": {},
   "outputs": [],
   "source": [
    "data.Outlet_Size.replace(['Medium','Small','High','others'],[1,2,3,4],inplace=True)"
   ]
  },
  {
   "cell_type": "code",
   "execution_count": 38,
   "id": "5928ec81",
   "metadata": {},
   "outputs": [
    {
     "name": "stderr",
     "output_type": "stream",
     "text": [
      "C:\\Users\\USER\\anaconda3\\lib\\site-packages\\seaborn\\_decorators.py:36: FutureWarning: Pass the following variable as a keyword arg: x. From version 0.12, the only valid positional argument will be `data`, and passing other arguments without an explicit keyword will result in an error or misinterpretation.\n",
      "  warnings.warn(\n"
     ]
    },
    {
     "data": {
      "text/plain": [
       "<AxesSubplot:xlabel='Outlet_Size', ylabel='count'>"
      ]
     },
     "execution_count": 38,
     "metadata": {},
     "output_type": "execute_result"
    },
    {
     "data": {
      "image/png": "[encoded data removed]",
      "text/plain": [
       "<Figure size 432x288 with 1 Axes>"
      ]
     },
     "metadata": {
      "needs_background": "light"
     },
     "output_type": "display_data"
    }
   ],
   "source": [
    "sns.countplot(data.Outlet_Size)"
   ]
  },
  {
   "cell_type": "code",
   "execution_count": 39,
   "id": "fb459db1",
   "metadata": {},
   "outputs": [
    {
     "data": {
      "text/plain": [
       "F_onewayResult(statistic=143.65746681352238, pvalue=8.228023520649935e-91)"
      ]
     },
     "execution_count": 39,
     "metadata": {},
     "output_type": "execute_result"
    }
   ],
   "source": [
    "part1=data.Item_Outlet_Sales[data.Outlet_Size==1]\n",
    "part2=data.Item_Outlet_Sales[data.Outlet_Size==2]\n",
    "part3=data.Item_Outlet_Sales[data.Outlet_Size==3]\n",
    "part4=data.Item_Outlet_Sales[data.Outlet_Size==4]\n",
    "stats.f_oneway(part1,part2,part3,part4)"
   ]
  },
  {
   "cell_type": "markdown",
   "id": "3650f8dc",
   "metadata": {},
   "source": [
    "### hypothesis testing Outlet Location Type\n",
    " "
   ]
  },
  {
   "cell_type": "code",
   "execution_count": 40,
   "id": "0b48b00b",
   "metadata": {},
   "outputs": [
    {
     "data": {
      "text/plain": [
       "0"
      ]
     },
     "execution_count": 40,
     "metadata": {},
     "output_type": "execute_result"
    }
   ],
   "source": [
    "data.Outlet_Location_Type.isnull().sum()"
   ]
  },
  {
   "cell_type": "code",
   "execution_count": 41,
   "id": "72c6249b",
   "metadata": {},
   "outputs": [
    {
     "data": {
      "text/plain": [
       "Tier 3    3350\n",
       "Tier 2    2785\n",
       "Tier 1    2388\n",
       "Name: Outlet_Location_Type, dtype: int64"
      ]
     },
     "execution_count": 41,
     "metadata": {},
     "output_type": "execute_result"
    }
   ],
   "source": [
    "data.Outlet_Location_Type.value_counts()"
   ]
  },
  {
   "cell_type": "code",
   "execution_count": 42,
   "id": "50f6dfec",
   "metadata": {},
   "outputs": [],
   "source": [
    "data.Outlet_Location_Type.replace(['Tier 3','Tier 2','Tier 1'],[3,2,1],inplace=True)\n"
   ]
  },
  {
   "cell_type": "code",
   "execution_count": 43,
   "id": "c6c5379f",
   "metadata": {},
   "outputs": [
    {
     "name": "stderr",
     "output_type": "stream",
     "text": [
      "C:\\Users\\USER\\anaconda3\\lib\\site-packages\\seaborn\\_decorators.py:36: FutureWarning: Pass the following variable as a keyword arg: x. From version 0.12, the only valid positional argument will be `data`, and passing other arguments without an explicit keyword will result in an error or misinterpretation.\n",
      "  warnings.warn(\n"
     ]
    },
    {
     "data": {
      "text/plain": [
       "<AxesSubplot:xlabel='Outlet_Location_Type', ylabel='count'>"
      ]
     },
     "execution_count": 43,
     "metadata": {},
     "output_type": "execute_result"
    },
    {
     "data": {
      "image/png": "[encoded data removed]",
      "text/plain": [
       "<Figure size 432x288 with 1 Axes>"
      ]
     },
     "metadata": {
      "needs_background": "light"
     },
     "output_type": "display_data"
    }
   ],
   "source": [
    "sns.countplot(data.Outlet_Location_Type)"
   ]
  },
  {
   "cell_type": "code",
   "execution_count": 44,
   "id": "03b8f53f",
   "metadata": {},
   "outputs": [
    {
     "name": "stderr",
     "output_type": "stream",
     "text": [
      "C:\\Users\\USER\\anaconda3\\lib\\site-packages\\scipy\\stats\\stats.py:3621: F_onewayBadInputSizesWarning: at least one input has length 0\n",
      "  warnings.warn(F_onewayBadInputSizesWarning('at least one input '\n"
     ]
    },
    {
     "data": {
      "text/plain": [
       "F_onewayResult(statistic=nan, pvalue=nan)"
      ]
     },
     "execution_count": 44,
     "metadata": {},
     "output_type": "execute_result"
    }
   ],
   "source": [
    "part1=data.Item_Outlet_Sales[data.Outlet_Location_Type=='1']\n",
    "part2=data.Item_Outlet_Sales[data.Outlet_Location_Type=='2']\n",
    "part3=data.Item_Outlet_Sales[data.Outlet_Location_Type=='3']\n",
    "stats.f_oneway(part1,part2,part3)"
   ]
  },
  {
   "cell_type": "markdown",
   "id": "86cedd54",
   "metadata": {},
   "source": [
    "### Outlet type\n"
   ]
  },
  {
   "cell_type": "code",
   "execution_count": 45,
   "id": "f45769e5",
   "metadata": {},
   "outputs": [
    {
     "data": {
      "text/plain": [
       "Supermarket Type1    5577\n",
       "Grocery Store        1083\n",
       "Supermarket Type3     935\n",
       "Supermarket Type2     928\n",
       "Name: Outlet_Type, dtype: int64"
      ]
     },
     "execution_count": 45,
     "metadata": {},
     "output_type": "execute_result"
    }
   ],
   "source": [
    "data.Outlet_Type.value_counts()"
   ]
  },
  {
   "cell_type": "code",
   "execution_count": 46,
   "id": "a36e671a",
   "metadata": {},
   "outputs": [],
   "source": [
    "data.Outlet_Type.replace(['Supermarket Type1','Grocery Store','Supermarket Type3','Supermarket Type2'],[0,1,2,3],inplace=True)"
   ]
  },
  {
   "cell_type": "code",
   "execution_count": 47,
   "id": "5519f2c7",
   "metadata": {},
   "outputs": [
    {
     "name": "stderr",
     "output_type": "stream",
     "text": [
      "C:\\Users\\USER\\anaconda3\\lib\\site-packages\\seaborn\\_decorators.py:36: FutureWarning: Pass the following variable as a keyword arg: x. From version 0.12, the only valid positional argument will be `data`, and passing other arguments without an explicit keyword will result in an error or misinterpretation.\n",
      "  warnings.warn(\n"
     ]
    },
    {
     "data": {
      "text/plain": [
       "<AxesSubplot:xlabel='Outlet_Type', ylabel='count'>"
      ]
     },
     "execution_count": 47,
     "metadata": {},
     "output_type": "execute_result"
    },
    {
     "data": {
      "image/png": "[encoded data removed]",
      "text/plain": [
       "<Figure size 432x288 with 1 Axes>"
      ]
     },
     "metadata": {
      "needs_background": "light"
     },
     "output_type": "display_data"
    }
   ],
   "source": [
    "sns.countplot(data.Outlet_Type)"
   ]
  },
  {
   "cell_type": "code",
   "execution_count": 48,
   "id": "eaf10f79",
   "metadata": {},
   "outputs": [
    {
     "data": {
      "text/plain": [
       "F_onewayResult(statistic=894.6500119018013, pvalue=0.0)"
      ]
     },
     "execution_count": 48,
     "metadata": {},
     "output_type": "execute_result"
    }
   ],
   "source": [
    "part1=data.Item_Outlet_Sales[data.Outlet_Type==1]\n",
    "part2=data.Item_Outlet_Sales[data.Outlet_Type==2]\n",
    "part3=data.Item_Outlet_Sales[data.Outlet_Type==3]\n",
    "part4=data.Item_Outlet_Sales[data.Outlet_Type==0]\n",
    "stats.f_oneway(part1,part2,part3,part4)"
   ]
  },
  {
   "cell_type": "markdown",
   "id": "c3678ba3",
   "metadata": {},
   "source": [
    "### Outlet type affects sales\n"
   ]
  },
  {
   "cell_type": "code",
   "execution_count": 49,
   "id": "015dffbd",
   "metadata": {},
   "outputs": [],
   "source": [
    "dummy=pd.get_dummies(dummy,columns=['Outlet_Establishment_Year'])"
   ]
  },
  {
   "cell_type": "code",
   "execution_count": 50,
   "id": "fabf78f4",
   "metadata": {},
   "outputs": [
    {
     "data": {
      "text/plain": [
       "Index(['Item_Weight', 'Item_Fat_Content', 'Item_Visibility', 'Item_Type',\n",
       "       'Item_MRP', 'Item_Outlet_Sales', 'Outlet_Size_High',\n",
       "       'Outlet_Size_Medium', 'Outlet_Size_Small', 'Outlet_Size_others',\n",
       "       'Outlet_Location_Type_Tier 1', 'Outlet_Location_Type_Tier 2',\n",
       "       'Outlet_Location_Type_Tier 3', 'Outlet_Type_Grocery Store',\n",
       "       'Outlet_Type_Supermarket Type1', 'Outlet_Type_Supermarket Type2',\n",
       "       'Outlet_Type_Supermarket Type3', 'Outlet_Establishment_Year_1985',\n",
       "       'Outlet_Establishment_Year_1987', 'Outlet_Establishment_Year_1997',\n",
       "       'Outlet_Establishment_Year_1998', 'Outlet_Establishment_Year_1999',\n",
       "       'Outlet_Establishment_Year_2002', 'Outlet_Establishment_Year_2004',\n",
       "       'Outlet_Establishment_Year_2007', 'Outlet_Establishment_Year_2009'],\n",
       "      dtype='object')"
      ]
     },
     "execution_count": 50,
     "metadata": {},
     "output_type": "execute_result"
    }
   ],
   "source": [
    "dummy.columns"
   ]
  },
  {
   "cell_type": "raw",
   "id": "2c5652b2",
   "metadata": {},
   "source": [
    "from sklearn import preprocessing\n",
    "import MinMaxScaler as mms\n",
    "scaler=MinMaxScaler()\n",
    "print(scaler.fit(dummy))"
   ]
  },
  {
   "cell_type": "raw",
   "id": "f8639b89",
   "metadata": {},
   "source": [
    "scaler_data=scaler.transform(dummy)\n",
    "print(scaler_data)"
   ]
  },
  {
   "cell_type": "raw",
   "id": "6711f2bc",
   "metadata": {},
   "source": [
    "SD=pd.DataFrame(scaler_data)\n",
    "print(SD)"
   ]
  },
  {
   "cell_type": "raw",
   "id": "0cc20d55",
   "metadata": {},
   "source": [
    "SD.describe()"
   ]
  }
 ],
 "metadata": {
  "kernelspec": {
   "display_name": "Python 3 (ipykernel)",
   "language": "python",
   "name": "python3"
  },
  "language_info": {
   "codemirror_mode": {
    "name": "ipython",
    "version": 3
   },
   "file_extension": ".py",
   "mimetype": "text/x-python",
   "name": "python",
   "nbconvert_exporter": "python",
   "pygments_lexer": "ipython3",
   "version": "3.9.7"
  }
 },
 "nbformat": 4,
 "nbformat_minor": 5
}
